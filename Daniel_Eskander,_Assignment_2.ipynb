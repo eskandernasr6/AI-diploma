{
  "nbformat": 4,
  "nbformat_minor": 0,
  "metadata": {
    "colab": {
      "private_outputs": true,
      "provenance": []
    },
    "kernelspec": {
      "name": "python3",
      "display_name": "Python 3"
    },
    "language_info": {
      "name": "python"
    }
  },
  "cells": [
    {
      "cell_type": "markdown",
      "source": [
        "### 1) Write a program to print the maximum between two numbers. (one-line conditional statement)\n"
      ],
      "metadata": {
        "id": "Ui8LKXjlii3V"
      }
    },
    {
      "cell_type": "code",
      "source": [
        "x = 10\n",
        "y = 11\n",
        "if x > y :\n",
        "  print('x')\n",
        "else:\n",
        "  print('y')"
      ],
      "metadata": {
        "id": "GrXvFwIu3L8k"
      },
      "execution_count": null,
      "outputs": []
    },
    {
      "cell_type": "markdown",
      "source": [
        "### 2) Write a program to find the maximum between three numbers.\n"
      ],
      "metadata": {
        "id": "xQB_yP4rirZS"
      }
    },
    {
      "cell_type": "code",
      "source": [
        "x=int(input(\"enter first number\"))\n",
        "y=int(input(\"enter second number\"))\n",
        "z=int(input(\"enter third number\"))\n",
        "\n",
        "print(max(x,y,z))\n",
        "\n"
      ],
      "metadata": {
        "id": "RtYL1pIw8L5S"
      },
      "execution_count": null,
      "outputs": []
    },
    {
      "cell_type": "markdown",
      "source": [
        "### 3) Write a program to check whether a number is negative, or positive (one-line conditional statement)\n"
      ],
      "metadata": {
        "id": "di3xEq8mjBRK"
      }
    },
    {
      "cell_type": "code",
      "source": [
        "x = int(input())\n",
        "\n",
        "if x > 0:\n",
        "  print(\"positive number\")\n",
        "else:\n",
        "  print(\"negative number\")"
      ],
      "metadata": {
        "id": "f77_CkMD8j9V"
      },
      "execution_count": null,
      "outputs": []
    },
    {
      "cell_type": "markdown",
      "source": [
        "### 4) Write a  program to check whether a number is even or odd  (one-line statement).\n"
      ],
      "metadata": {
        "id": "grc5Gk_RjFBe"
      }
    },
    {
      "cell_type": "code",
      "source": [
        "x = int(input())\n",
        "\n",
        "if x%2 == 0:\n",
        "  print(\"even number\")\n",
        "else:\n",
        "  print(\"odd number\")"
      ],
      "metadata": {
        "id": "dWAP_yPO9JJ1"
      },
      "execution_count": null,
      "outputs": []
    },
    {
      "cell_type": "markdown",
      "source": [
        "###5) Write a  program to check whether a year is a leap year or not. (one-line conditional statement).\n"
      ],
      "metadata": {
        "id": "-J3UtjpIjJPv"
      }
    },
    {
      "cell_type": "code",
      "source": [
        "year = int(input())\n",
        "\n",
        "if (year % 4 == 0 and year % 100 != 0) or (year % 400 == 0):\n",
        "  print(\"leap year\")\n",
        "else:\n",
        "  print(\"not leap year\")\n"
      ],
      "metadata": {
        "id": "sAhjLoNrACxQ"
      },
      "execution_count": null,
      "outputs": []
    },
    {
      "cell_type": "markdown",
      "source": [
        "###6) Write a  program to store the weekdays in a list and access the week day and print it by index.\n"
      ],
      "metadata": {
        "id": "JeN4yaIMjNlC"
      }
    },
    {
      "cell_type": "code",
      "source": [
        "i = str(input(\"enter your day \"))\n",
        "days = (\"Saturday\",\"Sunday\",\"Monday\", \"Tuesday\", \"Wednesday\", \"Thursday\", \"Friday\")\n",
        "z = days.index(i)\n",
        "print(i, \"is day number \",z+1)\n",
        "\n"
      ],
      "metadata": {
        "id": "xbtdMCQDBB-p"
      },
      "execution_count": null,
      "outputs": []
    },
    {
      "cell_type": "markdown",
      "source": [
        "###7) Write a  program to print all alphabets from a to z using while loop"
      ],
      "metadata": {
        "id": "ST7uKJmtjYh1"
      }
    },
    {
      "cell_type": "code",
      "source": [
        "i = 'A'\n",
        "\n",
        "print(\"The Alphabets from A to Z are:\")\n",
        "\n",
        "while ord(i) <= ord('Z'):\n",
        "    print(i)\n",
        "    i = chr(ord(i) + 1)\n",
        ""
      ],
      "metadata": {
        "id": "GcP_5OVBCGcP"
      },
      "execution_count": null,
      "outputs": []
    },
    {
      "cell_type": "markdown",
      "source": [
        "###8)Write a program to sotre numbers in the List and print its reverse"
      ],
      "metadata": {
        "id": "PkPPTrivjran"
      }
    },
    {
      "cell_type": "code",
      "source": [
        "i=int(input())\n",
        "List_1 = [1,2,3,5,21,52,412,5,2,5]\n",
        "List_1.append(i)\n",
        "List_1.reverse()\n",
        "print(List_1)"
      ],
      "metadata": {
        "id": "oZzQ5L8-8Bxd"
      },
      "execution_count": null,
      "outputs": []
    },
    {
      "cell_type": "markdown",
      "source": [
        "### 9) Write a program to print the multiplcation table of any number"
      ],
      "metadata": {
        "id": "2JoHNIaCj7fR"
      }
    },
    {
      "cell_type": "code",
      "source": [
        "x=int(input())\n",
        "i=0\n",
        "while i<11:\n",
        "  print(x,\" x \",i,\" = \",x*i)\n",
        "  i += 1"
      ],
      "metadata": {
        "id": "Z1lhlUIVIy4Y"
      },
      "execution_count": null,
      "outputs": []
    },
    {
      "cell_type": "markdown",
      "source": [
        "###10)Write a program to print all even numbers between 1 to 100.(using while loop)"
      ],
      "metadata": {
        "id": "WTIX9yh1kLs-"
      }
    },
    {
      "cell_type": "code",
      "execution_count": null,
      "metadata": {
        "id": "i5fTGY3Qib9Y"
      },
      "outputs": [],
      "source": [
        "i=0\n",
        "\n",
        "while i <= 100:\n",
        "  if i%2 == 0:\n",
        "    print(i)\n",
        "    i +=1\n",
        "  else:\n",
        "    i += 1\n"
      ]
    }
  ]
}